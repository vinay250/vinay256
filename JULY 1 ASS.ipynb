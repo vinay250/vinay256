{
  "nbformat": 4,
  "nbformat_minor": 0,
  "metadata": {
    "colab": {
      "provenance": []
    },
    "kernelspec": {
      "name": "python3",
      "display_name": "Python 3"
    },
    "language_info": {
      "name": "python"
    }
  },
  "cells": [
    {
      "cell_type": "markdown",
      "source": [
        "1.\tWhat is the primary goal of Object-Oriented Programming (OOP)?\n",
        "ans:The primary goal of Object-Oriented Programming (OOP) is to provide a programming paradigm that organizes code and data into reusable and modular structures called objects. OOP aims to improve software development by promoting concepts such as encapsulation, inheritance, and polymorphism.\n",
        "\n",
        "Encapsulation refers to the bundling of data and the methods that operate on that data within a single unit called an object. It allows for better data protection and reduces dependencies between different parts of a program.\n",
        "\n",
        "Inheritance enables the creation of new classes based on existing classes, allowing the derived classes to inherit properties and behaviors from their parent classes. This promotes code reuse, as common attributes and methods can be defined in a base class and inherited by multiple derived classes.\n",
        "\n",
        "Polymorphism allows objects of different classes to be treated as instances of a common superclass, providing a way to abstract and generalize code. This concept facilitates the creation of flexible and extensible software systems."
      ],
      "metadata": {
        "id": "I4tYjOC_xWhq"
      }
    },
    {
      "cell_type": "markdown",
      "source": [
        "2.\tWhat is an object in Python?\n",
        "ans:In Python, an object is a fundamental concept in Object-Oriented Programming (OOP). It is a runtime instance of a class, which serves as a blueprint for creating objects.\n",
        "\n",
        "In simpler terms, an object can be thought of as a data structure that contains both data (attributes or properties) and the behavior (methods or functions) that operate on that data. It encapsulates related data and functions into a single entity."
      ],
      "metadata": {
        "id": "tn26r9ugxRQc"
      }
    },
    {
      "cell_type": "markdown",
      "source": [
        "3.\tWhat is a class in Python?\n",
        "ans:In Python, a class is a blueprint or template that defines the properties (attributes) and behaviors (methods) of objects. It is a fundamental concept of Object-Oriented Programming (OOP) and serves as a blueprint for creating instances of objects.\n",
        "\n"
      ],
      "metadata": {
        "id": "KVMy9ArpyEUv"
      }
    },
    {
      "cell_type": "markdown",
      "source": [
        "4.\tWhat are attributes and methods in a class?\n",
        "ANS:Attributes:\n",
        "Attributes are variables associated with a class and its objects. They represent the state or data of an object. Attributes define the properties or characteristics that objects of the class will have. Each object created from a class will have its own set of attribute values.\n",
        "\n",
        "For example, in a Car class, attributes can include brand, model, color, and mileage. Each car object will have its own specific values for these attributes.\n",
        "\n",
        "Methods:\n",
        "Methods are functions defined within a class that define the behavior or actions that objects of the class can perform. They operate on the data (attributes) of the class and allow objects to execute specific actions or manipulate their state."
      ],
      "metadata": {
        "id": "pE4ssstkyhaf"
      }
    },
    {
      "cell_type": "markdown",
      "source": [
        "5.\tWhat is the difference between class variables and instance variables in Python?\n",
        "ANS:\n",
        "\n",
        "Class Variables:\n",
        "\n",
        "Class variables are defined within a class but outside any methods. They are shared among all instances of the class.\n",
        "They are declared directly within the class body, typically at the beginning, and are initialized only once.\n",
        "Class variables are associated with the class itself rather than any specific instance. They are accessible by all instances of the class as well as the class itself.\n",
        "Any modification to a class variable affects all instances of the class.\n",
        "\n",
        "\n",
        "Instance variables are specific to each instance of a class.\n",
        "They are declared within the methods of a class, typically within the __init__() method, using the self keyword.\n",
        "Instance variables hold data that is unique to each instance and may have different values for different instances."
      ],
      "metadata": {
        "id": "52r030bCzFvu"
      }
    },
    {
      "cell_type": "markdown",
      "source": [
        "6.\tWhat is the purpose of the self parameter in Python class methods?\n",
        "ANS:In Python class methods, the self parameter represents the instance of the class. It is a convention to name this parameter self, although any other valid variable name can be used.\n",
        "\n",
        "The purpose of the self parameter is to allow class methods to access and manipulate the attributes and methods of the instance that the method is called on. It provides a way for methods to refer to the specific instance that invoked them.\n",
        "\n",
        "When a class method is called on an instance, Python automatically passes the instance itself as the first argument to the method. By convention, this first parameter is named self to indicate that it represents the instance."
      ],
      "metadata": {
        "id": "F6c66wTv0DFX"
      }
    },
    {
      "cell_type": "markdown",
      "source": [
        "7.\tFor a library management system, you have to design the \"Book\" class with OOP principles in mind. The “Book” class will have following attributes:\n",
        "a.\ttitle: Represents the title of the book.\n",
        "b.\tauthor: Represents the author(s) of the book.\n",
        "c.\tisbn: Represents the ISBN (International Standard Book Number) of the book.\n",
        "d.\tpublication_year: Represents the year of publication of the book.\n",
        "e.\tavailable_copies: Represents the number of copies available for checkout.\n"
      ],
      "metadata": {
        "id": "7o09ITCN1mxC"
      }
    },
    {
      "cell_type": "code",
      "source": [
        "class Book:\n",
        "    def __init__(self, title, author, isbn, publication_year, available_copies):\n",
        "        self.title = title\n",
        "        self.author = author\n",
        "        self.isbn = isbn\n",
        "        self.publication_year = publication_year\n",
        "        self.available_copies = available_copies\n",
        "\n",
        "    def display_info(self):\n",
        "        print(\"Title:\", self.title)\n",
        "        print(\"Author:\", self.author)\n",
        "        print(\"ISBN:\", self.isbn)\n",
        "        print(\"Publication Year:\", self.publication_year)\n",
        "        print(\"Available Copies:\", self.available_copies)\n",
        "\n",
        "    def checkout(self):\n",
        "        if self.available_copies > 0:\n",
        "            self.available_copies -= 1\n",
        "            print(\"Book checked out successfully.\")\n",
        "        else:\n",
        "            print(\"No available copies for checkout.\")\n",
        "\n",
        "    def return_book(self):\n",
        "        self.available_copies += 1\n",
        "        print(\"Book returned successfully.\")\n"
      ],
      "metadata": {
        "id": "3YwOR11M1ua7"
      },
      "execution_count": 1,
      "outputs": []
    },
    {
      "cell_type": "markdown",
      "source": [
        "The class will also include the following methods:\n",
        "a.\tcheck_out(self): Decrements the available copies by one if there are copies available for checkout.\n",
        "b.\treturn_book(self): Increments the available copies by one when a book is returned.\n",
        "c.\tdisplay_book_info(self): Displays the information about the book, including its attributes and the number of available copies.\n",
        "\n"
      ],
      "metadata": {
        "id": "4G1boaji2qyx"
      }
    },
    {
      "cell_type": "code",
      "source": [
        "class Book:\n",
        "    def __init__(self, title, author, isbn, publication_year, available_copies):\n",
        "        self.title = title\n",
        "        self.author = author\n",
        "        self.isbn = isbn\n",
        "        self.publication_year = publication_year\n",
        "        self.available_copies = available_copies\n",
        "\n",
        "    def check_out(self):\n",
        "        if self.available_copies > 0:\n",
        "            self.available_copies -= 1\n",
        "            print(\"Book checked out successfully.\")\n",
        "        else:\n",
        "            print(\"No available copies for checkout.\")\n",
        "\n",
        "    def return_book(self):\n",
        "        self.available_copies += 1\n",
        "        print(\"Book returned successfully.\")\n",
        "\n",
        "    def display_book_info(self):\n",
        "        print(\"Title:\", self.title)\n",
        "        print(\"Author:\", self.author)\n",
        "        print(\"ISBN:\", self.isbn)\n",
        "        print(\"Publication Year:\", self.publication_year)\n",
        "        print(\"Available Copies:\", self.available_copies)\n"
      ],
      "metadata": {
        "id": "ccYZ4hvQ3BVz"
      },
      "execution_count": 2,
      "outputs": []
    },
    {
      "cell_type": "markdown",
      "source": [
        "8.\tFor a ticket booking system, you have to design the \"Ticket\" class with OOP principles in mind. The “Ticket” class should have the following attributes:\n",
        "a.\tticket_id: Represents the unique identifier for the ticket.\n",
        "b.\tevent_name: Represents the name of the event.\n",
        "c.\tevent_date: Represents the date of the event.\n",
        "d.\tvenue: Represents the venue of the event.\n",
        "e.\tseat_number: Represents the seat number associated with the ticket.\n",
        "f.\tprice: Represents the price of the ticket.\n",
        "g.\tis_reserved: Represents the reservation status of the ticket. The class also includes the following methods:\n",
        "a.\treserve_ticket(self): Marks the ticket as reserved if it is not already reserved.\n",
        "b.\tcancel_reservation(self): Cancels the reservation of the ticket if it is already reserved.\n",
        "c.\tdisplay_ticket_info(self): Displays the information about the ticket, including its attributes and reservation status.\n",
        "\n"
      ],
      "metadata": {
        "id": "AZAvFHxg3EzY"
      }
    },
    {
      "cell_type": "code",
      "source": [
        "class Ticket:\n",
        "    def __init__(self, ticket_id, event_name, event_date, venue, seat_number, price):\n",
        "        self.ticket_id = ticket_id\n",
        "        self.event_name = event_name\n",
        "        self.event_date = event_date\n",
        "        self.venue = venue\n",
        "        self.seat_number = seat_number\n",
        "        self.price = price\n",
        "        self.is_reserved = False\n",
        "\n",
        "    def reserve_ticket(self):\n",
        "        if not self.is_reserved:\n",
        "            self.is_reserved = True\n",
        "            print(\"Ticket reserved successfully.\")\n",
        "        else:\n",
        "            print(\"Ticket is already reserved.\")\n",
        "\n",
        "    def cancel_reservation(self):\n",
        "        if self.is_reserved:\n",
        "            self.is_reserved = False\n",
        "            print(\"Reservation canceled successfully.\")\n",
        "        else:\n",
        "            print(\"Ticket is not reserved.\")\n",
        "\n",
        "    def display_ticket_info(self):\n",
        "        print(\"Ticket ID:\", self.ticket_id)\n",
        "        print(\"Event Name:\", self.event_name)\n",
        "        print(\"Event Date:\", self.event_date)\n",
        "        print(\"Venue:\", self.venue)\n",
        "        print(\"Seat Number:\", self.seat_number)\n",
        "        print(\"Price:\", self.price)\n",
        "        print(\"Reservation Status:\", \"Reserved\" if self.is_reserved else \"Not Reserved\")\n"
      ],
      "metadata": {
        "id": "1yxlR7cm3Ip5"
      },
      "execution_count": 3,
      "outputs": []
    },
    {
      "cell_type": "markdown",
      "source": [
        "9.\tYou are creating a shopping cart for an e-commerce website. Using OOP to model the \"ShoppingCart\" functionality the class should contain following attributes and methods:\n",
        "a.\titems: Represents the list of items in the shopping cart. The class also includes the following methods:\n",
        "\n",
        "a.\tadd_item(self, item): Adds an item to the shopping cart by appending it to the list of items.\n",
        "b.\tremove_item(self, item): Removes an item from the shopping cart if it exists in the list.\n",
        "c.\tview_cart(self): Displays the items currently present in the shopping cart.\n",
        "d.\tclear_cart(self): Clears all items from the shopping cart by reassigning an empty list to the items attribute.\n",
        "\n"
      ],
      "metadata": {
        "id": "Mv-1zJwQ3TyJ"
      }
    },
    {
      "cell_type": "code",
      "source": [
        "class ShoppingCart:\n",
        "    def __init__(self):\n",
        "        self.items = []\n",
        "\n",
        "    def add_item(self, item):\n",
        "        self.items.append(item)\n",
        "        print(\"Item added to the shopping cart.\")\n",
        "\n",
        "    def remove_item(self, item):\n",
        "        if item in self.items:\n",
        "            self.items.remove(item)\n",
        "            print(\"Item removed from the shopping cart.\")\n",
        "        else:\n",
        "            print(\"Item not found in the shopping cart.\")\n",
        "\n",
        "    def view_cart(self):\n",
        "        if self.items:\n",
        "            print(\"Items in the shopping cart:\")\n",
        "            for item in self.items:\n",
        "                print(item)\n",
        "        else:\n",
        "            print(\"The shopping cart is empty.\")\n",
        "\n",
        "    def clear_cart(self):\n",
        "        self.items = []\n",
        "        print(\"The shopping cart has been cleared.\")\n"
      ],
      "metadata": {
        "id": "0hDs6axu3XnK"
      },
      "execution_count": 4,
      "outputs": []
    },
    {
      "cell_type": "markdown",
      "source": [
        "10.\tImagine a school management system. You have to design the \"Student\" class using OOP concepts.The “Student” class has the following attributes:\n",
        "a.\tname: Represents the name of the student.\n",
        "b.\tage: Represents the age of the student.\n",
        "c.\tgrade: Represents the grade or class of the student.\n",
        "d.\tstudent_id: Represents the unique identifier for the student.\n",
        "e.\tattendance: Represents the attendance record of the student. The class should also include the following methods:\n",
        "a.\tupdate_attendance(self, date, status): Updates the attendance record of the student for a given date with the provided status (e.g., present or absent).\n",
        "b.\tget_attendance(self): Returns the attendance record of the student.\n",
        "c.\tget_average_attendance(self): Calculates and returns the average attendance percentage of the student based on their attendance record.\n",
        "\n"
      ],
      "metadata": {
        "id": "CmHqljOd3fBY"
      }
    },
    {
      "cell_type": "code",
      "source": [
        "class Student:\n",
        "    def __init__(self, name, age, grade, student_id):\n",
        "        self.name = name\n",
        "        self.age = age\n",
        "        self.grade = grade\n",
        "        self.student_id = student_id\n",
        "        self.attendance = {}\n",
        "\n",
        "    def update_attendance(self, date, status):\n",
        "        self.attendance[date] = status\n",
        "\n",
        "    def get_attendance(self):\n",
        "        return self.attendance\n",
        "\n",
        "    def get_average_attendance(self):\n",
        "        total_days = len(self.attendance)\n",
        "        present_days = list(self.attendance.values()).count(\"Present\")\n",
        "        if total_days > 0:\n",
        "            average_attendance = (present_days / total_days) * 100\n",
        "            return average_attendance\n",
        "        else:\n",
        "            return 0.0\n"
      ],
      "metadata": {
        "id": "WNE0m9W43jBo"
      },
      "execution_count": 5,
      "outputs": []
    },
    {
      "cell_type": "code",
      "source": [
        "# Creating an instance of the Student class\n",
        "student1 = Student(\"John Doe\", 15, 10, \"S1234\")\n",
        "\n",
        "# Updating attendance\n",
        "student1.update_attendance(\"2023-07-15\", \"Present\")\n",
        "student1.update_attendance(\"2023-07-16\", \"Absent\")\n",
        "student1.update_attendance(\"2023-07-17\", \"Present\")\n",
        "\n",
        "# Getting attendance record\n",
        "attendance_record = student1.get_attendance()\n",
        "print(\"Attendance Record:\", attendance_record)\n",
        "\n",
        "# Getting average attendance\n",
        "average_attendance = student1.get_average_attendance()\n",
        "print(\"Average Attendance: {:.2f}%\".format(average_attendance))\n"
      ],
      "metadata": {
        "colab": {
          "base_uri": "https://localhost:8080/"
        },
        "id": "U_jfhqpI32E6",
        "outputId": "066703fb-4a2b-4158-e079-58e193391d3d"
      },
      "execution_count": 6,
      "outputs": [
        {
          "output_type": "stream",
          "name": "stdout",
          "text": [
            "Attendance Record: {'2023-07-15': 'Present', '2023-07-16': 'Absent', '2023-07-17': 'Present'}\n",
            "Average Attendance: 66.67%\n"
          ]
        }
      ]
    }
  ]
}