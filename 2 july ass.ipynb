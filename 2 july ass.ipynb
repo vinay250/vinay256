{
  "nbformat": 4,
  "nbformat_minor": 0,
  "metadata": {
    "colab": {
      "provenance": []
    },
    "kernelspec": {
      "name": "python3",
      "display_name": "Python 3"
    },
    "language_info": {
      "name": "python"
    }
  },
  "cells": [
    {
      "cell_type": "markdown",
      "source": [],
      "metadata": {
        "id": "NR2u_GgO48Zx"
      }
    },
    {
      "cell_type": "markdown",
      "source": [
        "1.\tExplain what inheritance is in object-oriented programming and why it is used.\n",
        "ans:In object-oriented programming (OOP), inheritance is a fundamental concept that allows a class to inherit properties and behaviors from another class. It enables the creation of a hierarchy of classes where a derived class (also known as a subclass or child class) can inherit attributes and methods from a base class (also known as a superclass or parent class)."
      ],
      "metadata": {
        "id": "na0k3Q1F49cX"
      }
    },
    {
      "cell_type": "markdown",
      "source": [
        "\n",
        "2.\tDiscuss the concept of single inheritance and multiple inheritance, highlighting their differences and advantages.\n",
        "\n",
        "ANS:Single Inheritance:\n",
        "Single inheritance refers to the situation where a derived class inherits properties and behaviors from a single base class.\n",
        "In single inheritance, a derived class can extend the functionality of a base class by adding new attributes and methods or by overriding the inherited methods.\n",
        "The class hierarchy forms a linear structure, with each derived class having a single direct base class.\n",
        "\n",
        "Multiple Inheritance:\n",
        "Multiple inheritance refers to the situation where a derived class inherits properties and behaviors from two or more base classes.\n",
        "In multiple inheritance, a derived class can inherit and combine features from multiple parent classes.\n",
        "The class hierarchy can become more complex and involve diamond-shaped relationships when multiple classes inherit from a common base class\n",
        "\n",
        "\n",
        "\n",
        "Advantages of Single Inheritance:\n",
        "\n",
        "Simplicity: Single inheritance results in a simpler class hierarchy, making the codebase easier to understand and maintain.\n",
        "Clear Relationships: Single inheritance establishes a clear and unambiguous relationship between the derived class and the base class.\n",
        "Reduced Complexity: With single inheritance, there is less complexity in method resolution and name clashes.\n",
        "\n",
        "\n",
        "Advantages of Multiple Inheritance:\n",
        "\n",
        "Code Reuse: Multiple inheritance promotes code reuse by allowing a class to inherit attributes and methods from multiple base classes, facilitating modular design and reducing code duplication.\n",
        "Modeling Complex Relationships: Multiple inheritance is useful when modeling complex relationships between classes that involve multiple aspects or roles..\n",
        "\n",
        "\n",
        "Differences between Single Inheritance and Multiple Inheritance:\n",
        "\n",
        "Single inheritance involves a derived class inheriting from a single base class, while multiple inheritance involves a derived class inheriting from two or more base classes.\n",
        "In single inheritance, the class hierarchy is linear, while multiple inheritance can result in a more complex and potentially diamond-shaped class hierarchy.\n",
        "Single inheritance is simpler and more straightforward to implement and understand, while multiple inheritance introduces more complexity and potential challenges, such as name clashes and method resolution order.\n",
        "Single inheritance emphasizes clarity, clear relationships, and simplicity, while multiple inheritance provides greater flexibility and code reuse at the cost of increased complexity."
      ],
      "metadata": {
        "id": "A6_d32fY5RKg"
      }
    },
    {
      "cell_type": "markdown",
      "source": [
        "3.\tExplain the terms \"base class\" and \"derived class\" in the context of inheritance.\n",
        "\n",
        "ans:\n",
        "In the context of inheritance, the terms \"base class\" and \"derived class\" refer to the relationship between classes in an inheritance hierarchy.\n",
        "\n",
        "Base Class:\n",
        "\n",
        "A base class, also known as a superclass or parent class, is the class from which other classes inherit properties and behaviors.\n",
        "It serves as the foundation or blueprint for the derived classes.\n",
        "The base class defines common attributes, methods, and behaviors that are shared among the derived classes.\n",
        "\n",
        "\n",
        "Derived Class:\n",
        "\n",
        "A derived class, also known as a subclass or child class, is a class that inherits properties and behaviors from a base class.\n",
        "It extends or specializes the functionality of the base class by adding or modifying attributes and methods.\n",
        "The derived class inherits all the public and protected members (attributes and methods) of the base class."
      ],
      "metadata": {
        "id": "Zju8fcdb58r-"
      }
    },
    {
      "cell_type": "markdown",
      "source": [
        "\n",
        "\n",
        "4.\tWhat is the significance of the \"protected\" access modifier in inheritance? How does it differ from \"private\" and \"public\" modifiers?\n",
        "ans:\"private\" access modifier:\n",
        "\n",
        "\"private\" members are accessible only within the class where they are defined.\n",
        "They are not accessible from outside the class, including derived classes.\n",
        "\"private\" members are used to encapsulate implementation details and hide them from other classes.\n",
        "\"public\" access modifier:\n",
        "\n",
        "\"public\" access modifier:\n",
        "\n",
        "\"public\" members are accessible from anywhere, both within and outside the class.\n",
        "They can be accessed by any class or object, including derived classes.\n",
        "\"public\" members represent the interface of a class, providing access to its functionalities.\n",
        "\"protected\" access modifier:\n",
        "\n",
        "\"protected\" access modifier:\n",
        "\"protected\" members are accessible within the class where they are defined and within derived classes.\n",
        "They are not accessible from outside the class hierarchy (instances of unrelated classes).\n",
        "\n",
        "The significance of the \"protected\" access modifier in inheritance is as follows:\n",
        "\n",
        "\"protected\" members allow derived classes to inherit and access certain members of the base class.\n",
        "Derived classes can access \"protected\" members directly as if they were their own members.\n",
        "This promotes code reuse and provides a way for derived classes to access and utilize common attributes and methods defined in the base class."
      ],
      "metadata": {
        "id": "NGTHIBPT6e2d"
      }
    },
    {
      "cell_type": "markdown",
      "source": [
        "5.\tWhat is the purpose of the \"super\" keyword in inheritance? Provide an example.\n",
        "ans:In inheritance, the super keyword is used to refer to the superclass (base class) from within the subclass (derived class). It allows the subclass to access and invoke the methods and attributes of the superclass.\n",
        "\n",
        "The purpose of the super keyword in inheritance is to facilitate method overriding, enabling the subclass to extend or modify the behavior of the superclass while still utilizing the functionality provided by the superclass."
      ],
      "metadata": {
        "id": "uzn-B2sW7Tjs"
      }
    },
    {
      "cell_type": "code",
      "source": [
        "class Animal:\n",
        "    def __init__(self, name):\n",
        "        self.name = name\n",
        "\n",
        "    def make_sound(self):\n",
        "        print(\"Generic animal sound.\")\n",
        "\n",
        "class Cat(Animal):\n",
        "    def __init__(self, name):\n",
        "        super().__init__(name)  # Call the superclass's __init__ method\n",
        "        self.sound = \"Meow\"\n",
        "\n",
        "    def make_sound(self):\n",
        "        super().make_sound()   # Call the superclass's make_sound method\n",
        "        print(f\"{self.name} says {self.sound}.\")\n",
        "\n",
        "# Creating an instance of the derived class\n",
        "cat = Cat(\"Whiskers\")\n",
        "\n",
        "# Calling the overridden method in the derived class\n",
        "cat.make_sound()\n"
      ],
      "metadata": {
        "colab": {
          "base_uri": "https://localhost:8080/"
        },
        "id": "V6Eh8ELI7kQ2",
        "outputId": "bd622562-1566-4d1c-ef45-37ced844e1ad"
      },
      "execution_count": 1,
      "outputs": [
        {
          "output_type": "stream",
          "name": "stdout",
          "text": [
            "Generic animal sound.\n",
            "Whiskers says Meow.\n"
          ]
        }
      ]
    },
    {
      "cell_type": "markdown",
      "source": [
        "6.\tCreate a base class called \"Vehicle\" with attributes like \"make\", \"model\", and \"year\". Then, create a derived class called \"Car\" that inherits from \"Vehicle\" and adds an attribute called \"fuel_type\". Implement appropriate methods in both classes"
      ],
      "metadata": {
        "id": "uX2dWx5z7uOU"
      }
    },
    {
      "cell_type": "code",
      "source": [
        "class Vehicle:\n",
        "    def __init__(self, make, model, year):\n",
        "        self.make = make\n",
        "        self.model = model\n",
        "        self.year = year\n",
        "\n",
        "    def display_info(self):\n",
        "        print(\"Make:\", self.make)\n",
        "        print(\"Model:\", self.model)\n",
        "        print(\"Year:\", self.year)\n",
        "\n",
        "\n",
        "class Car(Vehicle):\n",
        "    def __init__(self, make, model, year, fuel_type):\n",
        "        super().__init__(make, model, year)\n",
        "        self.fuel_type = fuel_type\n",
        "\n",
        "    def display_info(self):\n",
        "        super().display_info()\n",
        "        print(\"Fuel Type:\", self.fuel_type)\n",
        "\n",
        "\n",
        "# Creating instances of the classes\n",
        "vehicle1 = Vehicle(\"Ford\", \"Mustang\", 2022)\n",
        "car1 = Car(\"Tesla\", \"Model S\", 2023, \"Electric\")\n",
        "\n",
        "# Displaying information using the methods\n",
        "print(\"Vehicle Information:\")\n",
        "vehicle1.display_info()\n",
        "print(\"\\nCar Information:\")\n",
        "car1.display_info()\n"
      ],
      "metadata": {
        "colab": {
          "base_uri": "https://localhost:8080/"
        },
        "id": "-_SIghRe7wWz",
        "outputId": "51396365-5c2e-4c02-817b-3d726512468d"
      },
      "execution_count": 2,
      "outputs": [
        {
          "output_type": "stream",
          "name": "stdout",
          "text": [
            "Vehicle Information:\n",
            "Make: Ford\n",
            "Model: Mustang\n",
            "Year: 2022\n",
            "\n",
            "Car Information:\n",
            "Make: Tesla\n",
            "Model: Model S\n",
            "Year: 2023\n",
            "Fuel Type: Electric\n"
          ]
        }
      ]
    },
    {
      "cell_type": "markdown",
      "source": [
        "7.\tCreate a base class called \"Employee\" with attributes like \"name\" and \"salary.\" Derive two classes, \"Manager\" and \"Developer,\" from \"Employee.\" Add an additional attribute called \"department\" for the \"Manager\" class and \"programming_language\" for the \"Developer\" class.\n"
      ],
      "metadata": {
        "id": "USwvQD-475er"
      }
    },
    {
      "cell_type": "code",
      "source": [
        "class Employee:\n",
        "    def __init__(self, name, salary):\n",
        "        self.name = name\n",
        "        self.salary = salary\n",
        "\n",
        "    def display_info(self):\n",
        "        print(\"Name:\", self.name)\n",
        "        print(\"Salary:\", self.salary)\n",
        "\n",
        "\n",
        "class Manager(Employee):\n",
        "    def __init__(self, name, salary, department):\n",
        "        super().__init__(name, salary)\n",
        "        self.department = department\n",
        "\n",
        "    def display_info(self):\n",
        "        super().display_info()\n",
        "        print(\"Department:\", self.department)\n",
        "\n",
        "\n",
        "class Developer(Employee):\n",
        "    def __init__(self, name, salary, programming_language):\n",
        "        super().__init__(name, salary)\n",
        "        self.programming_language = programming_language\n",
        "\n",
        "    def display_info(self):\n",
        "        super().display_info()\n",
        "        print(\"Programming Language:\", self.programming_language)\n",
        "\n",
        "\n",
        "# Creating instances of the classes\n",
        "employee1 = Employee(\"John Doe\", 50000)\n",
        "manager1 = Manager(\"Jane Smith\", 70000, \"Marketing\")\n",
        "developer1 = Developer(\"Mike Johnson\", 60000, \"Python\")\n",
        "\n",
        "# Displaying information using the methods\n",
        "print(\"Employee Information:\")\n",
        "employee1.display_info()\n",
        "print(\"\\nManager Information:\")\n",
        "manager1.display_info()\n",
        "print(\"\\nDeveloper Information:\")\n",
        "developer1.display_info()\n"
      ],
      "metadata": {
        "colab": {
          "base_uri": "https://localhost:8080/"
        },
        "id": "FYY8MXH776vr",
        "outputId": "57eae829-a6d1-48ef-a23a-417246da306d"
      },
      "execution_count": 3,
      "outputs": [
        {
          "output_type": "stream",
          "name": "stdout",
          "text": [
            "Employee Information:\n",
            "Name: John Doe\n",
            "Salary: 50000\n",
            "\n",
            "Manager Information:\n",
            "Name: Jane Smith\n",
            "Salary: 70000\n",
            "Department: Marketing\n",
            "\n",
            "Developer Information:\n",
            "Name: Mike Johnson\n",
            "Salary: 60000\n",
            "Programming Language: Python\n"
          ]
        }
      ]
    },
    {
      "cell_type": "markdown",
      "source": [
        "8.\tDesign a base class called \"Shape\" with attributes like \"colour\" and \"border_width.\" Create derived classes, \"Rectangle\" and \"Circle,\" that inherit from \"Shape\" and add specific attributes like \"length\" and \"width\" for the \"Rectangle\" class and \"radius\" for the \"Circle\" class.\n"
      ],
      "metadata": {
        "id": "_cFHGhT08CNi"
      }
    },
    {
      "cell_type": "code",
      "source": [
        "class Shape:\n",
        "    def __init__(self, colour, border_width):\n",
        "        self.colour = colour\n",
        "        self.border_width = border_width\n",
        "\n",
        "    def display_info(self):\n",
        "        print(\"Colour:\", self.colour)\n",
        "        print(\"Border Width:\", self.border_width)\n",
        "\n",
        "\n",
        "class Rectangle(Shape):\n",
        "    def __init__(self, colour, border_width, length, width):\n",
        "        super().__init__(colour, border_width)\n",
        "        self.length = length\n",
        "        self.width = width\n",
        "\n",
        "    def display_info(self):\n",
        "        super().display_info()\n",
        "        print(\"Length:\", self.length)\n",
        "        print(\"Width:\", self.width)\n",
        "\n",
        "\n",
        "class Circle(Shape):\n",
        "    def __init__(self, colour, border_width, radius):\n",
        "        super().__init__(colour, border_width)\n",
        "        self.radius = radius\n",
        "\n",
        "    def display_info(self):\n",
        "        super().display_info()\n",
        "        print(\"Radius:\", self.radius)\n",
        "\n",
        "\n",
        "# Creating instances of the classes\n",
        "shape1 = Shape(\"Black\", 1)\n",
        "rectangle1 = Rectangle(\"Red\", 2, 5, 3)\n",
        "circle1 = Circle(\"Blue\", 1, 4)\n",
        "\n",
        "# Displaying information using the methods\n",
        "print(\"Shape Information:\")\n",
        "shape1.display_info()\n",
        "print(\"\\nRectangle Information:\")\n",
        "rectangle1.display_info()\n",
        "print(\"\\nCircle Information:\")\n"
      ],
      "metadata": {
        "colab": {
          "base_uri": "https://localhost:8080/"
        },
        "id": "wke6zTKq8DRy",
        "outputId": "162c106f-e806-4255-c308-ed6f9cae7740"
      },
      "execution_count": 4,
      "outputs": [
        {
          "output_type": "stream",
          "name": "stdout",
          "text": [
            "Shape Information:\n",
            "Colour: Black\n",
            "Border Width: 1\n",
            "\n",
            "Rectangle Information:\n",
            "Colour: Red\n",
            "Border Width: 2\n",
            "Length: 5\n",
            "Width: 3\n",
            "\n",
            "Circle Information:\n"
          ]
        }
      ]
    },
    {
      "cell_type": "markdown",
      "source": [
        "9.\tCreate a base class called \"Device\" with attributes like \"brand\" and \"model.\" Derive two classes, \"Phone\" and \"Tablet,\" from \"Device.\" Add specific attributes like \"screen_size\" for the \"Phone\" class and \"battery_capacity\" for the \"Tablet\" class."
      ],
      "metadata": {
        "id": "aBNRdlxB8MO6"
      }
    },
    {
      "cell_type": "code",
      "source": [
        "class Device:\n",
        "    def __init__(self, brand, model):\n",
        "        self.brand = brand\n",
        "        self.model = model\n",
        "\n",
        "    def display_info(self):\n",
        "        print(\"Brand:\", self.brand)\n",
        "        print(\"Model:\", self.model)\n",
        "\n",
        "\n",
        "class Phone(Device):\n",
        "    def __init__(self, brand, model, screen_size):\n",
        "        super().__init__(brand, model)\n",
        "        self.screen_size = screen_size\n",
        "\n",
        "    def display_info(self):\n",
        "        super().display_info()\n",
        "        print(\"Screen Size:\", self.screen_size)\n",
        "\n",
        "\n",
        "class Tablet(Device):\n",
        "    def __init__(self, brand, model, battery_capacity):\n",
        "        super().__init__(brand, model)\n",
        "        self.battery_capacity = battery_capacity\n",
        "\n",
        "    def display_info(self):\n",
        "        super().display_info()\n",
        "        print(\"Battery Capacity:\", self.battery_capacity)\n",
        "\n",
        "\n",
        "# Creating instances of the classes\n",
        "device1 = Device(\"Apple\", \"MacBook Pro\")\n",
        "phone1 = Phone(\"Samsung\", \"Galaxy S20\", \"6.2 inches\")\n",
        "tablet1 = Tablet(\"Apple\", \"iPad Pro\", \"10000 mAh\")\n",
        "\n",
        "# Displaying information using the methods\n",
        "print(\"Device Information:\")\n",
        "device1.display_info()\n",
        "print(\"\\nPhone Information:\")\n",
        "phone1.display_info()\n",
        "print(\"\\nTablet Information:\")\n",
        "tablet1.display_info()\n"
      ],
      "metadata": {
        "colab": {
          "base_uri": "https://localhost:8080/"
        },
        "id": "WcP_pMqv8NJr",
        "outputId": "7a533cf8-7c32-4ff2-b6d0-992688e50ca7"
      },
      "execution_count": 5,
      "outputs": [
        {
          "output_type": "stream",
          "name": "stdout",
          "text": [
            "Device Information:\n",
            "Brand: Apple\n",
            "Model: MacBook Pro\n",
            "\n",
            "Phone Information:\n",
            "Brand: Samsung\n",
            "Model: Galaxy S20\n",
            "Screen Size: 6.2 inches\n",
            "\n",
            "Tablet Information:\n",
            "Brand: Apple\n",
            "Model: iPad Pro\n",
            "Battery Capacity: 10000 mAh\n"
          ]
        }
      ]
    },
    {
      "cell_type": "markdown",
      "source": [
        "\n",
        "10.\tCreate a base class called \"BankAccount\" with attributes like \"account_number\" and \"balance.\" Derive two classes, \"SavingsAccount\" and \"CheckingAccount,\" from \"BankAccount.\" Add specific methods like \"calculate_interest\" for the \"SavingsAccount\" class and \"deduct_fees\" for the \"CheckingAccount\" class.\n"
      ],
      "metadata": {
        "id": "4yvP3wQJ8WqD"
      }
    },
    {
      "cell_type": "code",
      "source": [
        "class BankAccount:\n",
        "    def __init__(self, account_number, balance):\n",
        "        self.account_number = account_number\n",
        "        self.balance = balance\n",
        "\n",
        "    def display_info(self):\n",
        "        print(\"Account Number:\", self.account_number)\n",
        "        print(\"Balance:\", self.balance)\n",
        "\n",
        "\n",
        "class SavingsAccount(BankAccount):\n",
        "    def __init__(self, account_number, balance):\n",
        "        super().__init__(account_number, balance)\n",
        "\n",
        "    def calculate_interest(self, interest_rate):\n",
        "        interest = (self.balance * interest_rate) / 100\n",
        "        self.balance += interest\n",
        "        print(\"Interest calculated and added to the balance.\")\n",
        "\n",
        "\n",
        "class CheckingAccount(BankAccount):\n",
        "    def __init__(self, account_number, balance):\n",
        "        super().__init__(account_number, balance)\n",
        "\n",
        "    def deduct_fees(self, fee_amount):\n",
        "        if self.balance >= fee_amount:\n",
        "            self.balance -= fee_amount\n",
        "            print(\"Fees deducted from the balance.\")\n",
        "        else:\n",
        "            print(\"Insufficient balance to deduct fees.\")\n",
        "\n",
        "\n",
        "# Creating instances of the classes\n",
        "account1 = BankAccount(\"1234567890\", 1000)\n",
        "savings_account1 = SavingsAccount(\"9876543210\", 5000)\n",
        "checking_account1 = CheckingAccount(\"5432109876\", 2000)\n",
        "\n",
        "# Displaying information using the methods\n",
        "print(\"Bank Account Information:\")\n",
        "account1.display_info()\n",
        "print(\"\\nSavings Account Information:\")\n",
        "savings_account1.display_info()\n",
        "savings_account1.calculate_interest(2.5)\n",
        "savings_account1.display_info()\n",
        "print(\"\\nChecking Account Information:\")\n",
        "checking_account1.display_info()\n",
        "checking_account1.deduct_fees(50)\n",
        "checking_account1.display_info()\n"
      ],
      "metadata": {
        "colab": {
          "base_uri": "https://localhost:8080/"
        },
        "id": "0FYAGg2K8XYS",
        "outputId": "cc7692e4-1cf9-43a5-f5cd-edb96bf35375"
      },
      "execution_count": 6,
      "outputs": [
        {
          "output_type": "stream",
          "name": "stdout",
          "text": [
            "Bank Account Information:\n",
            "Account Number: 1234567890\n",
            "Balance: 1000\n",
            "\n",
            "Savings Account Information:\n",
            "Account Number: 9876543210\n",
            "Balance: 5000\n",
            "Interest calculated and added to the balance.\n",
            "Account Number: 9876543210\n",
            "Balance: 5125.0\n",
            "\n",
            "Checking Account Information:\n",
            "Account Number: 5432109876\n",
            "Balance: 2000\n",
            "Fees deducted from the balance.\n",
            "Account Number: 5432109876\n",
            "Balance: 1950\n"
          ]
        }
      ]
    }
  ]
}